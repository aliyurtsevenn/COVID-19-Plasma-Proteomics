{
 "cells": [
  {
   "cell_type": "code",
   "execution_count": null,
   "metadata": {
    "id": "G2_FW08z46ol"
   },
   "outputs": [],
   "source": [
    "! pip install git+https://github.com/fraenkel-lab/OmicsIntegrator2.git\n",
    "! pip install --upgrade --force-reinstall --no-deps python-louvain\n",
    "! pip install --upgrade --force-reinstall --no-deps networkx"
   ]
  },
  {
   "cell_type": "code",
   "execution_count": 2,
   "metadata": {
    "id": "B_1bZgBa5FiX"
   },
   "outputs": [
    {
     "ename": "ModuleNotFoundError",
     "evalue": "No module named 'OmicsIntegrator'",
     "output_type": "error",
     "traceback": [
      "\u001b[0;31m---------------------------------------------------------------------------\u001b[0m",
      "\u001b[0;31mModuleNotFoundError\u001b[0m                       Traceback (most recent call last)",
      "Input \u001b[0;32mIn [2]\u001b[0m, in \u001b[0;36m<cell line: 7>\u001b[0;34m()\u001b[0m\n\u001b[1;32m      4\u001b[0m \u001b[38;5;28;01mimport\u001b[39;00m \u001b[38;5;21;01mnetworkx\u001b[39;00m \u001b[38;5;28;01mas\u001b[39;00m \u001b[38;5;21;01mnx\u001b[39;00m\n\u001b[1;32m      5\u001b[0m \u001b[38;5;28;01mfrom\u001b[39;00m \u001b[38;5;21;01mmatplotlib\u001b[39;00m \u001b[38;5;28;01mimport\u001b[39;00m pyplot \u001b[38;5;28;01mas\u001b[39;00m plt\n\u001b[0;32m----> 7\u001b[0m \u001b[38;5;28;01mimport\u001b[39;00m \u001b[38;5;21;01mOmicsIntegrator\u001b[39;00m \u001b[38;5;28;01mas\u001b[39;00m \u001b[38;5;21;01moi\u001b[39;00m\n",
      "\u001b[0;31mModuleNotFoundError\u001b[0m: No module named 'OmicsIntegrator'"
     ]
    }
   ],
   "source": [
    "%matplotlib inline\n",
    "import numpy as np\n",
    "import pandas as pd\n",
    "import networkx as nx\n",
    "from matplotlib import pyplot as plt\n",
    "\n",
    "import OmicsIntegrator as oi\n"
   ]
  },
  {
   "cell_type": "code",
   "execution_count": null,
   "metadata": {},
   "outputs": [],
   "source": []
  },
  {
   "cell_type": "code",
   "execution_count": 53,
   "metadata": {
    "id": "HqBJm4h55t0X"
   },
   "outputs": [],
   "source": [
    "interactome_file = \"inputs\\HIPPIE-current.mitab.txt\"\n",
    "prize_file = \"inputs\\Prizes2.csv\"\n",
    "prize_file = pd.read_csv(prize_file, delimiter = ',')\n",
    "\n",
    "# Lacking interactions in HIPPIE: \n",
    "\n",
    "# No interactions found for 28455 (IGHV2-26)\n",
    "# No interactions found for 28426 (IGHV3-43)\n",
    "# No interactions found for 28410 (IGHV3-72)\n",
    "# No interactions found for 28408 (IGHV3-74)\n",
    "# No interactions found for 28385 (IGHV6-1)\n",
    "# No interactions found for 28401 (IGHV4-4)\n",
    "# No interactions found for 28935 (IGKV1-27)\n",
    "# No interactions found for 28902 (IGKV1D-13)\n",
    "# No interactions found for 28875 (IGKV3D-15)\n",
    "# No interactions found for 28874 (IGKV3D-20)\n",
    "# No interactions found for 28825 (IGLV1-40)\n",
    "# No interactions found for 28804 (IGLV3-9)\n",
    "# No interactions found for 28778 (IGLV6-57)\n",
    "# No interactions found for 388533 (KRTDAP)\n",
    "# No interactions found for ?????? (SAA1)\n",
    "# No interactions found for ?????? (SAA2)\n",
    "\n",
    "\n",
    "prize_file.to_csv('edited_prize_file.txt', sep='\\t', index= False)\n",
    "prize_file = 'edited_prize_file.txt'\n",
    "\n",
    "\n",
    "interactome = pd.read_csv(interactome_file, delimiter = '\\t')\n",
    "interactome = interactome[['Gene Name Interactor A', 'Gene Name Interactor B', 'Confidence Value']]\n",
    "interactome = interactome.rename(columns={'Gene Name Interactor A': 'protein1', 'Gene Name Interactor B': 'protein2'})\n",
    "interactome['cost'] = 1.5 - interactome['Confidence Value']\n",
    "del interactome['Confidence Value']\n",
    "interactome['protein1'] = interactome['protein1'].replace('LOC100293069', 'CFHR1')\n",
    "interactome['protein2'] = interactome['protein2'].replace('LOC100293069', 'CFHR1')\n",
    "\n",
    "interactome['protein1'] = interactome['protein1'].replace('HIST2H2AC','H2AC20')\n",
    "interactome['protein2'] = interactome['protein2'].replace('HIST2H2AC','H2AC20')\n",
    "\n",
    "interactome['protein1'] = interactome['protein1'].replace('HIST2H2BE', 'H2BC21')\n",
    "interactome['protein2'] = interactome['protein2'].replace('HIST2H2BE', 'H2BC21')\n",
    "\n",
    "interactome.to_csv('interactome.txt', sep='\\t', index= False)\n",
    "interactome_file = 'interactome.txt'"
   ]
  },
  {
   "cell_type": "markdown",
   "metadata": {},
   "source": [
    "# Network building"
   ]
  },
  {
   "cell_type": "code",
   "execution_count": 54,
   "metadata": {
    "id": "HqBJm4h55t0X"
   },
   "outputs": [
    {
     "name": "stderr",
     "output_type": "stream",
     "text": [
      "06:07:18 - OI2: INFO - Duplicated gene symbols in the prize file (we'll keep the max prize):\n",
      "06:07:18 - OI2: INFO - []\n",
      "06:07:18 - OI2: INFO - Members of the prize file not present in the interactome:\n",
      "06:07:18 - OI2: INFO - ['IGHV1-24', 'IGHV2-26', 'IGHV5-51', 'IGKV1D-13', 'IGKV2-29', 'IGLV9-49', 'KRTDAP', 'SAA1', 'SAA2']\n"
     ]
    }
   ],
   "source": [
    "params = {\n",
    "    \"noise\": 0.1, \n",
    "    \"dummy_mode\": \"terminals\", \n",
    "    \"exclude_terminals\": False, \n",
    "    \"seed\": 1\n",
    "}\n",
    "\n",
    "graph = oi.Graph(interactome_file, params)\n",
    "graph.prepare_prizes(prize_file)\n"
   ]
  },
  {
   "cell_type": "markdown",
   "metadata": {},
   "source": [
    "# Grid search"
   ]
  },
  {
   "cell_type": "code",
   "execution_count": 55,
   "metadata": {
    "colab": {
     "base_uri": "https://localhost:8080/"
    },
    "id": "zQVDdcjs6aP-",
    "outputId": "104f7366-9329-4405-a729-0f43daeca63c"
   },
   "outputs": [
    {
     "name": "stderr",
     "output_type": "stream",
     "text": [
      "06:07:44 - OI2: INFO - Duplicated gene symbols in the prize file (we'll keep the max prize):\n",
      "06:07:44 - OI2: INFO - []\n",
      "06:07:44 - OI2: INFO - Members of the prize file not present in the interactome:\n",
      "06:07:44 - OI2: INFO - ['IGHV1-24', 'IGHV2-26', 'IGHV5-51', 'IGKV1D-13', 'IGKV2-29', 'IGLV9-49', 'KRTDAP', 'SAA1', 'SAA2']\n"
     ]
    }
   ],
   "source": [
    "Ws = list(np.arange(2,6,3))\n",
    "Bs = list(np.arange(2,7,3))\n",
    "Gs = list(np.arange(2,7,3))\n",
    "\n",
    "# Or:\n",
    "\n",
    "#Ws = [2,3]\n",
    "#Bs = [4,5,6]\n",
    "#Gs = [3,4,5]\n",
    "\n",
    "params = {\n",
    "    \"noise\": 0.1, \n",
    "    \"dummy_mode\": \"terminals\", \n",
    "    \"exclude_terminals\": False, \n",
    "    \"seed\": 1\n",
    "}\n",
    "\n",
    "\n",
    "results = graph.grid_search(prize_file, Ws, Bs, Gs)\n",
    "membership_df = oi.summarize_grid_search(results, \"membership\")\n",
    "\n",
    "\n",
    "\n",
    "prize = pd.read_csv(prize_file,sep=\"\\t\")\n",
    "initial_nodes=list(prize.name)          \n",
    "results_with_terminals = membership_df[membership_df.index.isin(initial_nodes)]\n",
    "Initial_node_covers = results_with_terminals.sum().sort_values(ascending=False).to_frame(name=\"Covering_nodes\")\n",
    "\n",
    "\n",
    "out = set(Initial_node_covers[Initial_node_covers[\"Covering_nodes\"]==max(Initial_node_covers[\"Covering_nodes\"])].index)\n",
    "\n",
    "Initial_node_covers.sort_index(axis=0, inplace=True)\n",
    "membership_df.sort_index(axis=1, inplace=True)\n",
    "Total_node = membership_df.sum().to_frame(name=\"Total_nodes\")\n",
    "\n",
    "membership_df.loc['Covering nodes']=(Initial_node_covers['Covering_nodes'])\n",
    "membership_df.loc['Total_nodes']=(Total_node['Total_nodes'])\n",
    "membership_df.to_csv('membership_df_with_node_numbers.csv')"
   ]
  },
  {
   "cell_type": "code",
   "execution_count": 56,
   "metadata": {},
   "outputs": [],
   "source": [
    "# tuned parameters:\n",
    "\n",
    "w = 2\n",
    "b = 5\n",
    "g = 2\n"
   ]
  },
  {
   "cell_type": "code",
   "execution_count": 57,
   "metadata": {
    "id": "DJEaoTsMObF4"
   },
   "outputs": [
    {
     "name": "stderr",
     "output_type": "stream",
     "text": [
      "06:08:36 - OI2: INFO - Duplicated gene symbols in the prize file (we'll keep the max prize):\n",
      "06:08:36 - OI2: INFO - []\n",
      "06:08:36 - OI2: INFO - Members of the prize file not present in the interactome:\n",
      "06:08:36 - OI2: INFO - ['IGHV1-24', 'IGHV2-26', 'IGHV5-51', 'IGKV1D-13', 'IGKV2-29', 'IGLV9-49', 'KRTDAP', 'SAA1', 'SAA2']\n"
     ]
    },
    {
     "name": "stdout",
     "output_type": "stream",
     "text": [
      "131\n",
      "1019.2877629800007\n"
     ]
    }
   ],
   "source": [
    "graph = oi.Graph(interactome_file, {'w':w, 'b':b, 'g':g,})\n",
    "graph.prepare_prizes(prize_file)\n",
    "vertex_indices, edge_indices = graph.pcsf()\n",
    "\n",
    "print(len(vertex_indices))\n",
    "\n",
    "forest, augmented_forest = graph.output_forest_as_networkx(vertex_indices, edge_indices)\n",
    "print(graph.pcsf_objective_value(augmented_forest))\n",
    "\n",
    "# removing self loops\n",
    "augmented_forest.remove_edges_from(nx.selfloop_edges(augmented_forest))\n",
    "forest.remove_edges_from(nx.selfloop_edges(forest))\n",
    "\n",
    "oi.get_networkx_graph_as_dataframe_of_edges(augmented_forest).to_csv('edges.txt', sep='\\t', header=True, index=False)\n",
    "oi.get_networkx_graph_as_dataframe_of_nodes(augmented_forest).to_csv('nodes.txt', sep='\\t', header=True, index=True)\n",
    "\n"
   ]
  },
  {
   "cell_type": "code",
   "execution_count": 58,
   "metadata": {
    "id": "mybp10hUTZ1L"
   },
   "outputs": [
    {
     "data": {
      "text/plain": [
       "WindowsPath('C:/Users/Sina-PC/Documents/Pyhton/Covid Project/pcsf_results252.graphml')"
      ]
     },
     "execution_count": 58,
     "metadata": {},
     "output_type": "execute_result"
    }
   ],
   "source": [
    "oi.output_networkx_graph_as_graphml_for_cytoscape(augmented_forest, output_dir='', filename='pcsf_results252.graphml')"
   ]
  },
  {
   "cell_type": "markdown",
   "metadata": {},
   "source": [
    "# Finding the shorteest path between result network and another set of nodes"
   ]
  },
  {
   "cell_type": "code",
   "execution_count": 59,
   "metadata": {
    "id": "2Aae07VhBv0w"
   },
   "outputs": [],
   "source": [
    "Data = pd.read_csv(interactome_file, delimiter='\\t')\n",
    "file = open('shortest_path.csv', 'w')\n",
    "\n",
    "src = pd.read_csv('nodes.txt', delimiter='\\t')\n",
    "src = src.iloc[:,0].values\n",
    "\n",
    "trgt = pd.read_csv('inputs/gordon_proteins.txt', delimiter='\\t')\n",
    "trgt = trgt.iloc[:,2].values\n",
    "\n",
    "G = nx.from_pandas_edgelist(Data, edge_attr='cost', source='protein1', target = 'protein2')\n",
    "#G.remove_node('UBC') #list of hubs from Seyma's code\n",
    "G.remove_node('APP') #list of hubs from Seyma's code\n",
    "G.remove_node('ELAVL1') #list of hubs from Seyma's code\n",
    "G.remove_node('SUMO2') #list of hubs from Seyma's code\n",
    "G.remove_node('CUL3') #list of hubs from Seyma's code\n",
    "\n",
    "\n",
    "\n",
    "file.writelines('protein1_network_nodes'+','+'protein2_Gordon'+'\\n')\n",
    "\n",
    "for s in src:\n",
    "  for t in trgt:\n",
    "    try:\n",
    "      sp=nx.shortest_path(G, source=s, target=t)\n",
    "      if len(sp)<= 2:\n",
    "        file.writelines(','.join(sp)+'\\n')\n",
    "        \n",
    "    except:\n",
    "      continue\n",
    "file.close()\n",
    "\n",
    "\n"
   ]
  },
  {
   "cell_type": "markdown",
   "metadata": {},
   "source": [
    "# inseritng drug targets and locations to node attributes"
   ]
  },
  {
   "cell_type": "code",
   "execution_count": 62,
   "metadata": {},
   "outputs": [],
   "source": [
    "drugs = pd.read_csv('inputs/drugbank_approved_target_polypeptide_ids.csv_pharmacologically_active.csv')[['Gene Name', 'UniProt ID', 'Drug IDs']]\n",
    "drug_links = pd.read_csv('inputs/drug links.csv')[['DrugBank ID','Name']]\n",
    "nodes = pd.read_csv('nodes.txt', sep='\\t')\n",
    "#locations = pd.read_csv('inputs/human_compartment_integrated_full.tsv', delimiter='\\t', names=['Gene name','c','Location','Confidence'])\n",
    "#locations = locations[['Gene name','Location','Confidence']].groupby('Gene name').first()\n"
   ]
  },
  {
   "cell_type": "code",
   "execution_count": 63,
   "metadata": {},
   "outputs": [],
   "source": [
    "nodes_drugs = pd.merge(nodes, drugs, left_on = 'Unnamed: 0', right_on = 'Gene Name', how = 'left').rename(columns={'Unnamed: 0':'Gene name'})\n",
    "#nodes_drugs =  pd.merge(nodes_drugs, locations, on='Gene name', how='left')\n",
    "nodes_drugs.to_csv('nodes_drugs.csv', index = False)\n",
    "\n",
    "nodes_drugs = nodes_drugs.groupby('Gene Name').agg({'Drug IDs': lambda x: ''.join(x)})\n",
    "nodes_drugs['Drug IDs'] = nodes_drugs['Drug IDs'].apply(lambda x : x.split('; ')[:]).apply(list)\n",
    "nodes_drugs_network = nodes_drugs.explode('Drug IDs')\n",
    "nodes_drugs_network['Gene name'] = nodes_drugs_network.index\n",
    "\n",
    "nodes_drugs_network = pd.merge(nodes_drugs_network, drug_links, left_on = 'Drug IDs', right_on='DrugBank ID', how = 'left')\n",
    "del nodes_drugs_network['Drug IDs']\n",
    "nodes_drugs_network.to_csv('nodes_drug_network.csv', index = False)"
   ]
  },
  {
   "cell_type": "code",
   "execution_count": 8,
   "metadata": {},
   "outputs": [
    {
     "name": "stdout",
     "output_type": "stream",
     "text": [
      "Collecting scikit_posthocs\n",
      "  Downloading scikit_posthocs-0.7.0-py3-none-any.whl (38 kB)\n",
      "Requirement already satisfied: numpy in /opt/anaconda3/lib/python3.9/site-packages (from scikit_posthocs) (1.21.5)\n",
      "Requirement already satisfied: scipy in /opt/anaconda3/lib/python3.9/site-packages (from scikit_posthocs) (1.7.3)\n",
      "Requirement already satisfied: seaborn in /opt/anaconda3/lib/python3.9/site-packages (from scikit_posthocs) (0.11.2)\n",
      "Requirement already satisfied: statsmodels in /opt/anaconda3/lib/python3.9/site-packages (from scikit_posthocs) (0.13.2)\n",
      "Requirement already satisfied: matplotlib in /opt/anaconda3/lib/python3.9/site-packages (from scikit_posthocs) (3.5.1)\n",
      "Requirement already satisfied: pandas>=0.20.0 in /opt/anaconda3/lib/python3.9/site-packages (from scikit_posthocs) (1.4.2)\n",
      "Requirement already satisfied: python-dateutil>=2.8.1 in /opt/anaconda3/lib/python3.9/site-packages (from pandas>=0.20.0->scikit_posthocs) (2.8.2)\n",
      "Requirement already satisfied: pytz>=2020.1 in /opt/anaconda3/lib/python3.9/site-packages (from pandas>=0.20.0->scikit_posthocs) (2021.3)\n",
      "Requirement already satisfied: six>=1.5 in /opt/anaconda3/lib/python3.9/site-packages (from python-dateutil>=2.8.1->pandas>=0.20.0->scikit_posthocs) (1.16.0)\n",
      "Requirement already satisfied: cycler>=0.10 in /opt/anaconda3/lib/python3.9/site-packages (from matplotlib->scikit_posthocs) (0.11.0)\n",
      "Requirement already satisfied: fonttools>=4.22.0 in /opt/anaconda3/lib/python3.9/site-packages (from matplotlib->scikit_posthocs) (4.25.0)\n",
      "Requirement already satisfied: pyparsing>=2.2.1 in /opt/anaconda3/lib/python3.9/site-packages (from matplotlib->scikit_posthocs) (3.0.4)\n",
      "Requirement already satisfied: pillow>=6.2.0 in /opt/anaconda3/lib/python3.9/site-packages (from matplotlib->scikit_posthocs) (9.0.1)\n",
      "Requirement already satisfied: packaging>=20.0 in /opt/anaconda3/lib/python3.9/site-packages (from matplotlib->scikit_posthocs) (21.3)\n",
      "Requirement already satisfied: kiwisolver>=1.0.1 in /opt/anaconda3/lib/python3.9/site-packages (from matplotlib->scikit_posthocs) (1.3.2)\n",
      "Requirement already satisfied: patsy>=0.5.2 in /opt/anaconda3/lib/python3.9/site-packages (from statsmodels->scikit_posthocs) (0.5.2)\n",
      "Installing collected packages: scikit-posthocs\n",
      "Successfully installed scikit-posthocs-0.7.0\n"
     ]
    }
   ],
   "source": [
    "! pip install scikit_posthocs"
   ]
  },
  {
   "cell_type": "code",
   "execution_count": 11,
   "metadata": {},
   "outputs": [
    {
     "name": "stdout",
     "output_type": "stream",
     "text": [
      "          1         2         3         4\n",
      "1  1.000000  0.900000  0.206498  0.016224\n",
      "2  0.900000  1.000000  0.496386  0.089024\n",
      "3  0.206498  0.496386  1.000000  0.664397\n",
      "4  0.016224  0.089024  0.664397  1.000000\n"
     ]
    }
   ],
   "source": [
    "healthy_=[0.148487510982804, 0.1232, 0.125791792894519, 0.14885208882198,0.066635709310425]\n",
    "critical_=[0.104208072468946,\n",
    "0.080873716079299,\n",
    "0.055020388174852,\n",
    "0.067486262902231,\n",
    "0.070080771961858,\n",
    "0.078566992470362]\n",
    "severe = [0.10286677252222,0.116847314628567,0.128596464816651]\n",
    "moderate=[0.090549553198054,\n",
    "0.081109811842245,\n",
    "0.085526315789474,\n",
    "0.110776872072838]\n",
    "\n",
    "\n",
    "\n",
    "import sklearn as sk\n",
    "\n",
    "import scikit_posthocs\n",
    "\n",
    "\n",
    "'''\n",
    "1. scikit posthoc t test ---- adjustmet = fdr_tsbh, fdr_tsbky\n",
    "2. tukey\n",
    "3. vanwaerden\n",
    "4. \n",
    "'''\n",
    "\n",
    "\n",
    "\n",
    "a= scikit_posthocs.posthoc_tukey([healthy_,severe,moderate,critical_])\n",
    "print(a)"
   ]
  },
  {
   "cell_type": "code",
   "execution_count": 68,
   "metadata": {},
   "outputs": [
    {
     "data": {
      "text/plain": [
       "Decimal('0')"
      ]
     },
     "execution_count": 68,
     "metadata": {},
     "output_type": "execute_result"
    }
   ],
   "source": [
    "import optparse\n",
    "import sys\n",
    "import os.path as op\n",
    "import scipy.stats as ss\n",
    "from decimal import Decimal\n",
    "\n",
    "m = 61\n",
    "n = 20000\n",
    "n1 = 140\n",
    "n2 = 154\n",
    "\n",
    "mmin = m - 1\n",
    "mmax = min(n1, n2)\n",
    "Decimal(ss.hypergeom.cdf(mmax, n, n1, n2)  - ss.hypergeom.cdf(mmin, n, n1, n2))"
   ]
  },
  {
   "cell_type": "code",
   "execution_count": null,
   "metadata": {},
   "outputs": [],
   "source": []
  }
 ],
 "metadata": {
  "colab": {
   "collapsed_sections": [],
   "name": "critical_healthy.ipynb",
   "provenance": []
  },
  "kernelspec": {
   "display_name": "Python 3 (ipykernel)",
   "language": "python",
   "name": "python3"
  },
  "language_info": {
   "codemirror_mode": {
    "name": "ipython",
    "version": 3
   },
   "file_extension": ".py",
   "mimetype": "text/x-python",
   "name": "python",
   "nbconvert_exporter": "python",
   "pygments_lexer": "ipython3",
   "version": "3.9.12"
  }
 },
 "nbformat": 4,
 "nbformat_minor": 4
}
